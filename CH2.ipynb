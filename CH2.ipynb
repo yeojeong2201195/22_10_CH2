{
  "nbformat": 4,
  "nbformat_minor": 0,
  "metadata": {
    "colab": {
      "provenance": [],
      "authorship_tag": "ABX9TyM71DF4zT9UXTlV3mk1PpiE",
      "include_colab_link": true
    },
    "kernelspec": {
      "name": "python3",
      "display_name": "Python 3"
    },
    "language_info": {
      "name": "python"
    }
  },
  "cells": [
    {
      "cell_type": "markdown",
      "metadata": {
        "id": "view-in-github",
        "colab_type": "text"
      },
      "source": [
        "<a href=\"https://colab.research.google.com/github/yeojeong2201195/22_10_CH2/blob/main/CH2.ipynb\" target=\"_parent\"><img src=\"https://colab.research.google.com/assets/colab-badge.svg\" alt=\"Open In Colab\"/></a>"
      ]
    },
    {
      "cell_type": "code",
      "execution_count": null,
      "metadata": {
        "id": "IjVVJ8V-ubEN"
      },
      "outputs": [],
      "source": []
    },
    {
      "cell_type": "markdown",
      "source": [
        "이름을 입력하시오:홍길동\n",
        "홍길동씨, 안녕하세요?파이썬에 오신 것을 환영합니다.\n",
        "첫번째 정수를 입력하시오:300 \n",
        "두 번째 정수를 입력하시오:400\n",
        "300과 400의 합은 700입니다."
      ],
      "metadata": {
        "id": "pYytJF1juc5e"
      }
    },
    {
      "cell_type": "code",
      "source": [
        "name= input(\"이름을 입력하시오.\")\n",
        "print(name,\"씨,안녕하세요?\")\n",
        "print(\"파이썬에 오신 것을 환영합니다.\")\n",
        "x=int(input(\"첫 번째 정수를 입력하시오:\"))\n",
        "y=int(input(\"두 번째 정수를 입력하시오:\"))\n",
        "sum=x+y\n",
        "print(x,\"과\",y,\"의 합은\",sum,\"입니다.\")"
      ],
      "metadata": {
        "colab": {
          "base_uri": "https://localhost:8080/"
        },
        "id": "JutZI_R_wl5m",
        "outputId": "dd6fc859-7d20-49d9-e04f-1c0c9646aa1e"
      },
      "execution_count": 3,
      "outputs": [
        {
          "output_type": "stream",
          "name": "stdout",
          "text": [
            "이름을 입력하시오.홍길동\n",
            "홍길동 씨,안녕하세요?\n",
            "파이썬에 오신 것을 환영합니다.\n",
            "첫 번째 정수를 입력하시오:300\n",
            "두 번째 정수를 입력하시오:400\n",
            "300 과 400 의 합은 700 입니다.\n"
          ]
        }
      ]
    }
  ]
}