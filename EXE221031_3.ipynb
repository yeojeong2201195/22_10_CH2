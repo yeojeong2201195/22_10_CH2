{
  "nbformat": 4,
  "nbformat_minor": 0,
  "metadata": {
    "colab": {
      "provenance": [],
      "authorship_tag": "ABX9TyOaEVlZ0yFBGRPqUzcFqU0n",
      "include_colab_link": true
    },
    "kernelspec": {
      "name": "python3",
      "display_name": "Python 3"
    },
    "language_info": {
      "name": "python"
    }
  },
  "cells": [
    {
      "cell_type": "markdown",
      "metadata": {
        "id": "view-in-github",
        "colab_type": "text"
      },
      "source": [
        "<a href=\"https://colab.research.google.com/github/yeojeong2201195/22_10_CH2/blob/main/EXE221031_3.ipynb\" target=\"_parent\"><img src=\"https://colab.research.google.com/assets/colab-badge.svg\" alt=\"Open In Colab\"/></a>"
      ]
    },
    {
      "cell_type": "code",
      "execution_count": null,
      "metadata": {
        "colab": {
          "base_uri": "https://localhost:8080/"
        },
        "id": "tFkW3Hm41WhE",
        "outputId": "b7893b5c-8c76-4807-c64c-49f684838c7c"
      },
      "outputs": [
        {
          "output_type": "stream",
          "name": "stdout",
          "text": [
            "X의 값을 입력하시오.:5\n",
            "Y의 값을 입력하시오.:4\n",
            "x와 y의 합은:  9\n",
            "x와 y의 차는:  1\n",
            "x와 y의 곱은:  20\n",
            "x와 y의 평균은:  4.5\n",
            "x와 y의 큰수는:  5\n",
            "x와 y의 작은수:  4\n"
          ]
        }
      ],
      "source": [
        "x= int(input(\"X의 값을 입력하시오.:\"))\n",
        "y= int(input(\"Y의 값을 입력하시오.:\"))\n",
        "\n",
        "print(\"x와 y의 합은: \",x+y)\n",
        "print(\"x와 y의 차는: \",x-y)\n",
        "print(\"x와 y의 곱은: \",x*y)\n",
        "print(\"x와 y의 평균은: \",(x+y)/2)\n",
        "print(\"x와 y의 큰수는: \",max(x,y))\n",
        "print(\"x와 y의 작은수: \",min(x,y))"
      ]
    },
    {
      "cell_type": "code",
      "source": [
        "r = float(input(\"r값을 입력하시오:\")) #변수 r의 값을 사용자로부터 받는다. float형으로\n",
        "h = float(input(\"h값을 입력하시오:\")) #변수 h의 값을 사용자로부터 받는다. float형으로\n",
        "vol = 3.141592 * r**2*h\n",
        "print(\"원기둥의 부피는:\", vol, \"입니다.\")"
      ],
      "metadata": {
        "colab": {
          "base_uri": "https://localhost:8080/"
        },
        "id": "ZgjVpeIp1XEs",
        "outputId": "97e150c0-d1b4-4a61-bc24-93b1ae14c624"
      },
      "execution_count": null,
      "outputs": [
        {
          "output_type": "stream",
          "name": "stdout",
          "text": [
            "r값을 입력하시오:10\n",
            "h값을 입력하시오:100\n",
            "원기둥의 부피는: 31415.92 입니다.\n"
          ]
        }
      ]
    },
    {
      "cell_type": "code",
      "source": [
        "number = int(input(\"정수를 입력하시오.:\"))\n",
        "sum =0                  # 변수 sum을 초기화 0으로 한다.\n",
        "sum= sum+ number % 10\n",
        "number = number // 10\n",
        "sum= sum+ number % 10\n",
        "number = number // 10\n",
        "sum= sum+ number % 10\n",
        "number = number // 10\n",
        "sum= sum+ number % 10\n",
        "number = number // 10\n",
        "print(\"자리수의 합:\", str(sum))"
      ],
      "metadata": {
        "colab": {
          "base_uri": "https://localhost:8080/"
        },
        "id": "i7u1UpCr62io",
        "outputId": "fad6efca-f05d-41bf-86c6-21fdb58b64e4"
      },
      "execution_count": null,
      "outputs": [
        {
          "output_type": "stream",
          "name": "stdout",
          "text": [
            "정수를 입력하시오.:1234\n",
            "자리수의 합: 10\n"
          ]
        }
      ]
    },
    {
      "cell_type": "code",
      "source": [
        "x1 = int(input(\"x1의 값:\"))\n",
        "y1 = int(input(\"y1의 값:\"))\n",
        "\n",
        "x2= int(input(\"x2의 값:\"))\n",
        "y2= int(input(\"y2의 값:\"))\n",
        "dist =((x2-x1)**2+(y2-y1)**2)**0.5 \n",
        "print(\"두점 사이의  거리=\",dist,\"입니다.\")"
      ],
      "metadata": {
        "colab": {
          "base_uri": "https://localhost:8080/"
        },
        "id": "gDeeHl6l8l8L",
        "outputId": "0eaf2685-b797-430d-f2a7-31bcf4993250"
      },
      "execution_count": null,
      "outputs": [
        {
          "output_type": "stream",
          "name": "stdout",
          "text": [
            "x1의 값:0\n",
            "y1의 값:0\n",
            "x2의 값:100\n",
            "y2의 값:100\n",
            "두점 사이의  거리= 141.4213562373095 입니다.\n"
          ]
        }
      ]
    },
    {
      "cell_type": "code",
      "source": [
        "import time\n",
        "fsecond=time.time()\n",
        "total_sec = int(fsecond)\n",
        "total_min = total_sec //60\n",
        "minute = total_min % 60\n",
        "total_hour = total_min // 60\n",
        "hour = total_hour % 24\n",
        "\n",
        "print(\"현재시각은 (영국 그리니치 표준시각):\", str(hour) +\"시\" + str(minute)+\"분\")"
      ],
      "metadata": {
        "colab": {
          "base_uri": "https://localhost:8080/"
        },
        "id": "SFhWv-yHH8F-",
        "outputId": "0a129d23-ee74-4dbf-de46-136758a1d629"
      },
      "execution_count": null,
      "outputs": [
        {
          "output_type": "stream",
          "name": "stdout",
          "text": [
            "현재시각은 (영국 그리니치 표준시각): 3시52분\n"
          ]
        }
      ]
    },
    {
      "cell_type": "code",
      "source": [
        "a=int(input(\"물체의 무게를 입력하시오(킬로그램):\"))\n",
        "b=int(input(\"물체의 속도를 입력하시오(미터/초):\"))\n",
        "print(\"물체는 \",1/2*a*b**2,\"(줄)의 에너지를 가지고 있다.\")"
      ],
      "metadata": {
        "colab": {
          "base_uri": "https://localhost:8080/"
        },
        "id": "A0g9OfXPRkRJ",
        "outputId": "f070081a-7cf1-4554-dd3f-fa18d0fd7f83"
      },
      "execution_count": 1,
      "outputs": [
        {
          "output_type": "stream",
          "name": "stdout",
          "text": [
            "물체의 무게를 입력하시오(킬로그램):10\n",
            "물체의 속도를 입력하시오(미터/초):100\n",
            "물체는  50000.0 (줄)의 에너지를 가지고 있다.\n"
          ]
        }
      ]
    },
    {
      "cell_type": "code",
      "source": [],
      "metadata": {
        "id": "hYNyXClvjhW5"
      },
      "execution_count": null,
      "outputs": []
    }
  ]
}